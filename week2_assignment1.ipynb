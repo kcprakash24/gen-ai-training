{
 "cells": [
  {
   "cell_type": "markdown",
   "id": "2e4dcaa1",
   "metadata": {},
   "source": [
    "# Week 2 | Assignment 1\n",
    "\n",
    "## Objective\n",
    "Build a LangChain-powered pipeline (Chain) that:\n",
    "\n",
    "1. Accepts a company name as input.  \n",
    "2. Extracts or generates its stock code.  \n",
    "3. Uses finance news search tools in LangChain to fetch news about the company.  \n",
    "4. Sends the news to an LLM (Azure OpenAI GPT-4o or GPT-4o-mini) to generate a structured sentiment profile.  \n",
    "5. Outputs the result as a JSON object.  \n",
    "6. Uses **mlflow** for tracing, prompt debugging, and monitoring.  \n",
    "\n",
    "---\n",
    "\n",
    "## Tech Stack & Tools\n",
    "- **Framework:** LangChain  \n",
    "- **LLM:** GPT-4o or GPT-4o-mini (deployed via Azure OpenAI)  \n",
    "- **Data Source:** GOAT / Yahoo Finance tool / Brave Search / Exa Search in LangChain  \n",
    "- **Prompt Management & Observability:** mlflow  \n",
    "- **Environment:** Python (v3.10+ recommended)  \n",
    "\n",
    "---\n",
    "\n",
    "## Tasks Breakdown\n",
    "\n",
    "### Step 1: Accept Input\n",
    "- Accept a company name as input (e.g., `\"Apple Inc\"`).  \n",
    "\n",
    "### Step 2: Get Stock Code\n",
    "- Generate or extract the stock ticker/symbol using:\n",
    "  - Either a static lookup table or an API/tool (like Yahoo Finance OR GOAT Symbol Suggest).  \n",
    "  - Integrate this as the first link in your chain.  \n",
    "\n",
    "### Step 3: Fetch Company News\n",
    "- Use LangChain’s integration with new search tools to fetch the latest news for the extracted stock symbol.  \n",
    "- Extract a concise list of recent headlines or article summaries.  \n",
    "\n",
    "### Step 4: Analyze Sentiment with GPT-4o / GPT-4o-mini\n",
    "- Pass the news summaries to the GPT-4o model via LangChain with a prompt that asks the LLM to:\n",
    "  - Classify sentiment.  \n",
    "  - Extract named entities: people, places, other companies.  \n",
    "  - Provide a structured JSON with the following fields:\n",
    "\n",
    "```json\n",
    "{\n",
    "  \"company_name\": \"\",\n",
    "  \"stock_code\": \"\",\n",
    "  \"newsdesc\": \"\",\n",
    "  \"sentiment\": \"Positive/Negative/Neutral\",\n",
    "  \"people_names\": [],\n",
    "  \"places_names\": [],\n",
    "  \"other_companies_referred\": [],\n",
    "  \"related_industries\": [],\n",
    "  \"market_implications\": \"\",\n",
    "  \"confidence_score\": 0.0\n",
    "}\n",
    "```\n",
    "*Tip: Use StructuredOutputParser from LangChain or PydanticOutputParser for JSON formatting.*\n",
    "\n",
    "### Step 5: Integrate MLflow\n",
    "- Log prompts, outputs, and metadata using mlflow.\n",
    "- Add tracing spans for:\n",
    "  - Stock code extraction.\n",
    "  - News fetching.\n",
    "  - Sentiment parsing.\n",
    "\n",
    "#### Deliverables & Bonus Ideas\n",
    "\n",
    "#### Deliverables\n",
    "\n",
    "#### 1. Python Script / Notebook (`.py` or `.ipynb`)\n",
    "- Full implementation of the chain.  \n",
    "- LangChain Chain definition.  \n",
    "- Proper use of **Azure OpenAI APIs** and **mlflow**.  \n",
    "\n",
    "#### 2. README\n",
    "- Setup instructions.  \n",
    "- Azure and mlflow API configuration steps.  \n",
    "- Sample command to run the chain.  \n",
    "\n",
    "#### 3. Sample Output JSON\n",
    "- Provide a real example for a company (e.g., `\"Microsoft\"`).  \n",
    "\n",
    "\n",
    "#### Bonus Ideas (Optional)\n",
    "- Add **entity linking** for extracted people and companies (e.g., using Wikipedia or LinkedIn).  \n",
    "- **Visualize sentiment trend** if historical news is considered.  \n",
    "- Use **LangChain’s MultiPromptChain** to classify and process different types of news differently.  \n",
    "- Build a **UI using Streamlit**.  \n"
   ]
  },
  {
   "cell_type": "code",
   "execution_count": 1,
   "id": "e8659cbf",
   "metadata": {},
   "outputs": [],
   "source": [
    "# !python -m pip install --upgrade --quiet  yfinance"
   ]
  },
  {
   "cell_type": "code",
   "execution_count": 2,
   "id": "a08bc6bc",
   "metadata": {},
   "outputs": [
    {
     "name": "stdout",
     "output_type": "stream",
     "text": [
      "3.3.2\n"
     ]
    }
   ],
   "source": [
    "import mlflow\n",
    "print(mlflow.__version__)"
   ]
  },
  {
   "cell_type": "code",
   "execution_count": 3,
   "id": "405767c0",
   "metadata": {},
   "outputs": [
    {
     "data": {
      "text/plain": [
       "True"
      ]
     },
     "execution_count": 3,
     "metadata": {},
     "output_type": "execute_result"
    }
   ],
   "source": [
    "from dotenv import load_dotenv\n",
    "load_dotenv()"
   ]
  },
  {
   "cell_type": "code",
   "execution_count": 4,
   "id": "464ddc28",
   "metadata": {},
   "outputs": [
    {
     "name": "stderr",
     "output_type": "stream",
     "text": [
      "USER_AGENT environment variable not set, consider setting it to identify your requests.\n"
     ]
    }
   ],
   "source": [
    "import os\n",
    "from typing import List, Optional\n",
    "from langchain_community.tools.yahoo_finance_news import YahooFinanceNewsTool\n",
    "from langchain_openai import AzureChatOpenAI\n",
    "from langchain.chains import LLMChain\n",
    "from langchain.prompts import PromptTemplate\n",
    "from langchain_core.output_parsers import PydanticOutputParser\n",
    "from pydantic import BaseModel, Field\n",
    "import yfinance as yf"
   ]
  },
  {
   "cell_type": "code",
   "execution_count": 5,
   "id": "1eb65987",
   "metadata": {},
   "outputs": [],
   "source": [
    "# from openai import AzureOpenAI\n",
    "# client=AzureOpenAI()\n",
    "# client.chat.completions.create( messages=[\n",
    "#         {\n",
    "#             \"role\": \"user\",\n",
    "#             \"content\": \"What is capital of france?\",\n",
    "#         }\n",
    "#     ],\n",
    "#     model=\"gpt4o\",\n",
    "# ).choices[0].message.content"
   ]
  },
  {
   "cell_type": "code",
   "execution_count": 6,
   "id": "91b8fe27",
   "metadata": {},
   "outputs": [],
   "source": [
    "import mlflow\n",
    "mlflow.langchain.autolog()"
   ]
  },
  {
   "cell_type": "code",
   "execution_count": 7,
   "id": "c8132647",
   "metadata": {},
   "outputs": [
    {
     "name": "stderr",
     "output_type": "stream",
     "text": [
      "2025/09/16 17:04:49 INFO mlflow.tracking.fluent: Experiment with name 'kc-company-stock-sentiment-week2_assignment1' does not exist. Creating a new experiment.\n"
     ]
    },
    {
     "data": {
      "text/plain": [
       "<Experiment: artifact_location='mlflow-artifacts:/911887883162768483', creation_time=1758022489343, experiment_id='911887883162768483', last_update_time=1758022489343, lifecycle_stage='active', name='kc-company-stock-sentiment-week2_assignment1', tags={}>"
      ]
     },
     "execution_count": 7,
     "metadata": {},
     "output_type": "execute_result"
    }
   ],
   "source": [
    "mlflow.set_tracking_uri(\"http://20.75.92.162:5000\")\n",
    "mlflow.set_experiment(\"kc-company-stock-sentiment-week2_assignment1\")\n"
   ]
  },
  {
   "cell_type": "code",
   "execution_count": 8,
   "id": "ddcf6498",
   "metadata": {},
   "outputs": [],
   "source": [
    "client = AzureChatOpenAI(\n",
    "    deployment_name=os.environ['AZURE_OPENAI_DEPLOYMENT'],  # Your deployment name\n",
    "        model_name=\"gpt-4o\",\n",
    "        temperature=0.1\n",
    ")"
   ]
  },
  {
   "cell_type": "code",
   "execution_count": 9,
   "id": "01bd4e9e",
   "metadata": {},
   "outputs": [
    {
     "data": {
      "text/plain": [
       "'The capital of France is Paris.'"
      ]
     },
     "execution_count": 9,
     "metadata": {},
     "output_type": "execute_result"
    },
    {
     "data": {
      "text/html": [
       "\n",
       "<div>\n",
       "  <style scoped>\n",
       "  button {\n",
       "    border: none;\n",
       "    border-radius: 4px;\n",
       "    background-color: rgb(34, 114, 180);\n",
       "    font-family: -apple-system, \"system-ui\", \"Segoe UI\", Roboto, \"Helvetica Neue\", Arial;\n",
       "    font-size: 13px;\n",
       "    color: white;\n",
       "    margin-top: 8px;\n",
       "    margin-bottom: 8px;\n",
       "    padding: 8px 16px;\n",
       "    cursor: pointer;\n",
       "  }\n",
       "  button:hover {\n",
       "    background-color: rgb(66, 153, 224);\n",
       "  }\n",
       "  </style>\n",
       "  <button\n",
       "    onclick=\"\n",
       "        const display = this.nextElementSibling.style.display;\n",
       "        const isCollapsed = display === 'none';\n",
       "        this.nextElementSibling.style.display = isCollapsed ? null : 'none';\n",
       "\n",
       "        const verb = isCollapsed ? 'Collapse' : 'Expand';\n",
       "        this.innerText = `${verb} MLflow Trace`;\n",
       "    \"\n",
       "  >Collapse MLflow Trace</button>\n",
       "  <iframe\n",
       "    id=\"trace-renderer\"\n",
       "    style=\"width: 100%; height: 500px; border: none; resize: vertical;\"\n",
       "    src=\"http://20.75.92.162:5000/static-files/lib/notebook-trace-renderer/index.html?trace_id=tr-62e5adee9614cc4536254e1e8322d0a4&amp;experiment_id=911887883162768483&amp;version=3.3.2\"\n",
       "  />\n",
       "</div>\n"
      ],
      "text/plain": [
       "Trace(trace_id=tr-62e5adee9614cc4536254e1e8322d0a4)"
      ]
     },
     "metadata": {},
     "output_type": "display_data"
    }
   ],
   "source": [
    "client.invoke('What is the capital of France?').content"
   ]
  },
  {
   "cell_type": "code",
   "execution_count": 11,
   "id": "d2aaa683",
   "metadata": {},
   "outputs": [],
   "source": [
    "# Pydantic model for structured output\n",
    "class SentimentProfile(BaseModel):\n",
    "    company_name: str = Field(description=\"Name of the company\")\n",
    "    stock_code: str = Field(description=\"Stock ticker symbol\")\n",
    "    newsdesc: str = Field(description=\"Summary of recent news\")\n",
    "    sentiment: str = Field(description=\"Overall sentiment: Positive/Negative/Neutral\")\n",
    "    people_names: List[str] = Field(description=\"Names of people mentioned in news\")\n",
    "    places_names: List[str] = Field(description=\"Places/locations mentioned\")\n",
    "    other_companies_referred: List[str] = Field(description=\"Other companies mentioned\")\n",
    "    related_industries: List[str] = Field(description=\"Related industries mentioned\")\n",
    "    market_implications: str = Field(description=\"Potential market implications\")\n",
    "    confidence_score: float = Field(description=\"Confidence score between 0-1\")"
   ]
  },
  {
   "cell_type": "code",
   "execution_count": 20,
   "id": "63590ab9",
   "metadata": {},
   "outputs": [],
   "source": [
    "class CompanySentimentPipeline:\n",
    "    def __init__(self, azure_client):\n",
    "        self.llm = azure_client\n",
    "        self.yahoo_news = YahooFinanceNewsTool()\n",
    "        self.parser = PydanticOutputParser(pydantic_object=SentimentProfile)\n",
    "        \n",
    "        # Create the prompt template\n",
    "        self.prompt_template = PromptTemplate(\n",
    "            template=\"\"\"\n",
    "            You are a financial analyst. Analyze the following news about {company_name} (Stock: {stock_code}) and provide a structured sentiment analysis.\n",
    "            \n",
    "            Recent News:\n",
    "            {news_content}\n",
    "            \n",
    "            Please analyze this news and extract the following information in the specified JSON format:\n",
    "            \n",
    "            {format_instructions}\n",
    "            \n",
    "            Focus on:\n",
    "            - Overall sentiment (Positive/Negative/Neutral)\n",
    "            - Key people mentioned\n",
    "            - Places or regions mentioned\n",
    "            - Other companies referenced\n",
    "            - Related industries\n",
    "            - Market implications\n",
    "            - Your confidence in this analysis (0-1 scale)\n",
    "            \n",
    "            Provide your analysis:\n",
    "            \"\"\",\n",
    "            input_variables=[\"company_name\", \"stock_code\", \"news_content\"],\n",
    "            partial_variables={\"format_instructions\": self.parser.get_format_instructions()}\n",
    "        )\n",
    "        \n",
    "        # Create the LLM chain\n",
    "        # self.chain = LLMChain(\n",
    "        #     llm=self.llm,\n",
    "        #     prompt=self.prompt_template,\n",
    "        #     output_parser=self.parser\n",
    "        # )\n",
    "       \n",
    "        self.chain = self.prompt_template | self.llm | self.parser\n",
    "\n",
    "        \n",
    "        # Set MLflow experiment\n",
    "        mlflow.set_experiment(\"company-sentiment-analysis\")\n",
    "    \n",
    "    def get_stock_symbol(self, company_name: str) -> Optional[str]:\n",
    "        \"\"\"Extract stock symbol with MLflow logging\"\"\"\n",
    "        mlflow.log_param(\"symbol_extraction_method\", \"yfinance_with_fallback\")\n",
    "        \n",
    "        try:\n",
    "            # Try common approaches to find ticker\n",
    "            ticker = yf.Ticker(company_name)\n",
    "            info = ticker.info\n",
    "            \n",
    "            if info and 'symbol' in info:\n",
    "                mlflow.log_param(\"extraction_source\", \"yfinance_api\")\n",
    "                return info['symbol']\n",
    "            \n",
    "            # Fallback: try searching with yfinance\n",
    "            # This is a simple mapping for common companies\n",
    "            company_mappings = {\n",
    "                \"apple\": \"AAPL\",\n",
    "                \"microsoft\": \"MSFT\", \n",
    "                \"google\": \"GOOGL\",\n",
    "                \"amazon\": \"AMZN\",\n",
    "                \"tesla\": \"TSLA\",\n",
    "                \"meta\": \"META\",\n",
    "                \"nvidia\": \"NVDA\",\n",
    "                \"netflix\": \"NFLX\"\n",
    "            }\n",
    "            \n",
    "            company_lower = company_name.lower()\n",
    "            for key, symbol in company_mappings.items():\n",
    "                if key in company_lower:\n",
    "                    mlflow.log_param(\"extraction_source\", \"fallback_mapping\")\n",
    "                    return symbol\n",
    "            \n",
    "            mlflow.log_param(\"extraction_result\", \"not_found\")\n",
    "            return None\n",
    "            \n",
    "        except Exception as e:\n",
    "            mlflow.log_param(\"extraction_error\", str(e))\n",
    "            print(f\"Error getting stock symbol: {e}\")\n",
    "            return None\n",
    "    \n",
    "    def fetch_company_news(self, stock_symbol: str) -> str:\n",
    "        \"\"\"Fetch news with MLflow logging\"\"\"\n",
    "        mlflow.log_param(\"news_source\", \"yahoo_finance\")\n",
    "        \n",
    "        try:\n",
    "            news_data = self.yahoo_news.run(stock_symbol)\n",
    "            mlflow.log_param(\"news_fetch_success\", True)\n",
    "            return news_data\n",
    "        except Exception as e:\n",
    "            mlflow.log_param(\"news_fetch_error\", str(e))\n",
    "            mlflow.log_param(\"news_fetch_success\", False)\n",
    "            print(f\"Error fetching news: {e}\")\n",
    "            return f\"No recent news available for {stock_symbol}\"\n",
    "    \n",
    "    def run_pipeline(self, company_name: str) -> dict:\n",
    "        \"\"\"Main pipeline execution with detailed MLflow tracing\"\"\"\n",
    "        with mlflow.start_run(run_name=f\"sentiment_analysis_{company_name}\"):\n",
    "            try:\n",
    "                # Log input parameter\n",
    "                mlflow.log_param(\"company_name\", company_name)\n",
    "                \n",
    "                # SPAN 1: Stock code extraction\n",
    "                with mlflow.start_run(run_name=\"stock_extraction\", nested=True):\n",
    "                    mlflow.log_param(\"input_company\", company_name)\n",
    "                    stock_symbol = self.get_stock_symbol(company_name)\n",
    "                    \n",
    "                    if not stock_symbol:\n",
    "                        mlflow.log_param(\"extraction_status\", \"failed\")\n",
    "                        mlflow.log_param(\"error\", \"Stock symbol not found\")\n",
    "                        return {\"error\": f\"Could not find stock symbol for {company_name}\"}\n",
    "                    \n",
    "                    mlflow.log_param(\"extraction_status\", \"success\")\n",
    "                    mlflow.log_param(\"extracted_symbol\", stock_symbol)\n",
    "                    mlflow.log_text(f\"Extracted symbol: {stock_symbol}\", \"stock_extraction_output.txt\")\n",
    "                \n",
    "                print(f\"Found stock symbol: {stock_symbol}\")\n",
    "                \n",
    "                # SPAN 2: News fetching\n",
    "                with mlflow.start_run(run_name=\"news_fetching\", nested=True):\n",
    "                    mlflow.log_param(\"stock_symbol\", stock_symbol)\n",
    "                    news_content = self.fetch_company_news(stock_symbol)\n",
    "                    \n",
    "                    mlflow.log_param(\"news_length_chars\", len(news_content))\n",
    "                    mlflow.log_param(\"fetch_status\", \"success\" if news_content else \"failed\")\n",
    "                    # Log the actual news content (truncate if too long)\n",
    "                    mlflow.log_text(\n",
    "                        news_content[:2000] + \"...\" if len(news_content) > 2000 else news_content, \n",
    "                        \"fetched_news.txt\"\n",
    "                    )\n",
    "                \n",
    "                print(f\"Fetched news for {company_name}\")\n",
    "                \n",
    "                # SPAN 3: Sentiment parsing with LLM\n",
    "                with mlflow.start_run(run_name=\"sentiment_analysis\", nested=True):\n",
    "                    mlflow.log_param(\"llm_model\", \"gpt-4o\")\n",
    "                    mlflow.log_param(\"company_name\", company_name)\n",
    "                    mlflow.log_param(\"stock_code\", stock_symbol)\n",
    "                    \n",
    "                    # Log the prompt being sent to LLM\n",
    "                    formatted_prompt = self.prompt_template.format(\n",
    "                        company_name=company_name,\n",
    "                        stock_code=stock_symbol,\n",
    "                        news_content=news_content,\n",
    "                        format_instructions=self.parser.get_format_instructions()\n",
    "                    )\n",
    "                    mlflow.log_text(formatted_prompt, \"llm_prompt.txt\")\n",
    "                    \n",
    "                    # Execute LLM call\n",
    "                    result = self.chain.invoke({\n",
    "                        \"company_name\": company_name,\n",
    "                        \"stock_code\": stock_symbol,\n",
    "                        \"news_content\": news_content\n",
    "                    })\n",
    "                    \n",
    "                    # Log LLM output\n",
    "                    result_dict = result.dict()\n",
    "                    mlflow.log_text(str(result_dict), \"llm_output.json\")\n",
    "                    mlflow.log_param(\"output_sentiment\", result_dict.get(\"sentiment\"))\n",
    "                    mlflow.log_metric(\"confidence_score\", result_dict.get(\"confidence_score\", 0.0))\n",
    "                    mlflow.log_param(\"entities_count\", \n",
    "                                   len(result_dict.get(\"people_names\", [])) + \n",
    "                                   len(result_dict.get(\"other_companies_referred\", [])))\n",
    "                \n",
    "                # Log final results at parent run level\n",
    "                mlflow.log_param(\"final_sentiment\", result_dict.get(\"sentiment\"))\n",
    "                mlflow.log_metric(\"final_confidence\", result_dict.get(\"confidence_score\", 0.0))\n",
    "                \n",
    "                return result_dict\n",
    "                \n",
    "            except Exception as e:\n",
    "                mlflow.log_param(\"pipeline_error\", str(e))\n",
    "                return {\"error\": f\"Pipeline failed: {str(e)}\"}"
   ]
  },
  {
   "cell_type": "code",
   "execution_count": 21,
   "id": "bce708c3",
   "metadata": {},
   "outputs": [],
   "source": [
    "# Create pipeline instance\n",
    "pipeline = CompanySentimentPipeline(client)"
   ]
  },
  {
   "cell_type": "code",
   "execution_count": 22,
   "id": "50014e1d",
   "metadata": {},
   "outputs": [
    {
     "name": "stderr",
     "output_type": "stream",
     "text": [
      "HTTP Error 404: \n"
     ]
    },
    {
     "name": "stdout",
     "output_type": "stream",
     "text": [
      "🏃 View run stock_extraction at: http://20.75.92.162:5000/#/experiments/464813825302503577/runs/8192c412d0e64698bc7b06ab83d9fb60\n",
      "🧪 View experiment at: http://20.75.92.162:5000/#/experiments/464813825302503577\n",
      "Found stock symbol: AAPL\n",
      "🏃 View run news_fetching at: http://20.75.92.162:5000/#/experiments/464813825302503577/runs/d3687fbedced4702947510003591d688\n",
      "🧪 View experiment at: http://20.75.92.162:5000/#/experiments/464813825302503577\n",
      "Fetched news for Apple Inc\n"
     ]
    },
    {
     "name": "stderr",
     "output_type": "stream",
     "text": [
      "/tmp/ipykernel_12831/2214151142.py:162: PydanticDeprecatedSince20: The `dict` method is deprecated; use `model_dump` instead. Deprecated in Pydantic V2.0 to be removed in V3.0. See Pydantic V2 Migration Guide at https://errors.pydantic.dev/2.11/migration/\n",
      "  result_dict = result.dict()\n"
     ]
    },
    {
     "name": "stdout",
     "output_type": "stream",
     "text": [
      "🏃 View run sentiment_analysis at: http://20.75.92.162:5000/#/experiments/464813825302503577/runs/ca156cb0722c41f5a7e8fe3291e188af\n",
      "🧪 View experiment at: http://20.75.92.162:5000/#/experiments/464813825302503577\n",
      "🏃 View run sentiment_analysis_Apple Inc at: http://20.75.92.162:5000/#/experiments/464813825302503577/runs/f828517d663d4e09aaee4db35b4c1697\n",
      "🧪 View experiment at: http://20.75.92.162:5000/#/experiments/464813825302503577\n",
      "{\n",
      "  \"company_name\": \"Apple Inc.\",\n",
      "  \"stock_code\": \"AAPL\",\n",
      "  \"newsdesc\": \"Jim Cramer praised Apple Inc. during his show, highlighting the company's iPhone Air and visiting its glass supplier's factory in Kentucky.\",\n",
      "  \"sentiment\": \"Positive\",\n",
      "  \"people_names\": [\n",
      "    \"Jim Cramer\"\n",
      "  ],\n",
      "  \"places_names\": [\n",
      "    \"Kentucky\"\n",
      "  ],\n",
      "  \"other_companies_referred\": [],\n",
      "  \"related_industries\": [\n",
      "    \"Technology\",\n",
      "    \"Consumer Electronics\"\n",
      "  ],\n",
      "  \"market_implications\": \"Positive sentiment around Apple could lead to increased investor confidence and potential stock price appreciation.\",\n",
      "  \"confidence_score\": 0.85\n",
      "}\n"
     ]
    },
    {
     "data": {
      "text/html": [
       "\n",
       "<div>\n",
       "  <style scoped>\n",
       "  button {\n",
       "    border: none;\n",
       "    border-radius: 4px;\n",
       "    background-color: rgb(34, 114, 180);\n",
       "    font-family: -apple-system, \"system-ui\", \"Segoe UI\", Roboto, \"Helvetica Neue\", Arial;\n",
       "    font-size: 13px;\n",
       "    color: white;\n",
       "    margin-top: 8px;\n",
       "    margin-bottom: 8px;\n",
       "    padding: 8px 16px;\n",
       "    cursor: pointer;\n",
       "  }\n",
       "  button:hover {\n",
       "    background-color: rgb(66, 153, 224);\n",
       "  }\n",
       "  </style>\n",
       "  <button\n",
       "    onclick=\"\n",
       "        const display = this.nextElementSibling.style.display;\n",
       "        const isCollapsed = display === 'none';\n",
       "        this.nextElementSibling.style.display = isCollapsed ? null : 'none';\n",
       "\n",
       "        const verb = isCollapsed ? 'Collapse' : 'Expand';\n",
       "        this.innerText = `${verb} MLflow Trace`;\n",
       "    \"\n",
       "  >Collapse MLflow Trace</button>\n",
       "  <iframe\n",
       "    id=\"trace-renderer\"\n",
       "    style=\"width: 100%; height: 500px; border: none; resize: vertical;\"\n",
       "    src=\"http://20.75.92.162:5000/static-files/lib/notebook-trace-renderer/index.html?trace_id=tr-e217895bc7805a266d87ae1daeb2173f&amp;experiment_id=464813825302503577&amp;trace_id=tr-d9c4dfec6c7c885afa7f5e648b374409&amp;experiment_id=464813825302503577&amp;version=3.3.2\"\n",
       "  />\n",
       "</div>\n"
      ],
      "text/plain": [
       "[Trace(trace_id=tr-e217895bc7805a266d87ae1daeb2173f), Trace(trace_id=tr-d9c4dfec6c7c885afa7f5e648b374409)]"
      ]
     },
     "metadata": {},
     "output_type": "display_data"
    }
   ],
   "source": [
    "# Run analysis\n",
    "company_name = \"Apple Inc\"\n",
    "result = pipeline.run_pipeline(company_name)\n",
    "\n",
    "# Print results\n",
    "import json\n",
    "print(json.dumps(result, indent=2))\n"
   ]
  },
  {
   "cell_type": "code",
   "execution_count": null,
   "id": "ea9607d4",
   "metadata": {},
   "outputs": [],
   "source": []
  },
  {
   "cell_type": "code",
   "execution_count": null,
   "id": "541a646d",
   "metadata": {},
   "outputs": [],
   "source": []
  },
  {
   "cell_type": "code",
   "execution_count": null,
   "id": "1b28c76d",
   "metadata": {},
   "outputs": [],
   "source": []
  },
  {
   "cell_type": "code",
   "execution_count": null,
   "id": "ea2dde3f",
   "metadata": {},
   "outputs": [],
   "source": [
    "break"
   ]
  },
  {
   "cell_type": "markdown",
   "id": "f99890d9",
   "metadata": {},
   "source": [
    "## Just Direct Testing"
   ]
  },
  {
   "cell_type": "code",
   "execution_count": null,
   "id": "29e404f8",
   "metadata": {},
   "outputs": [],
   "source": [
    "class CompanySentimentPipeline:\n",
    "    def __init__(self, azure_client):\n",
    "        self.llm = azure_client\n",
    "        self.yahoo_news = YahooFinanceNewsTool()\n",
    "        self.parser = PydanticOutputParser(pydantic_object=SentimentProfile)\n",
    "        \n",
    "        # Create the prompt template\n",
    "        self.prompt_template = PromptTemplate(\n",
    "            template=\"\"\"\n",
    "            You are a financial analyst. Analyze the following news about {company_name} (Stock: {stock_code}) and provide a structured sentiment analysis.\n",
    "            \n",
    "            Recent News:\n",
    "            {news_content}\n",
    "            \n",
    "            Please analyze this news and extract the following information in the specified JSON format:\n",
    "            \n",
    "            {format_instructions}\n",
    "            \n",
    "            Focus on:\n",
    "            - Overall sentiment (Positive/Negative/Neutral)\n",
    "            - Key people mentioned\n",
    "            - Places or regions mentioned\n",
    "            - Other companies referenced\n",
    "            - Related industries\n",
    "            - Market implications\n",
    "            - Your confidence in this analysis (0-1 scale)\n",
    "            \n",
    "            Provide your analysis:\n",
    "            \"\"\",\n",
    "            input_variables=[\"company_name\", \"stock_code\", \"news_content\"],\n",
    "            partial_variables={\"format_instructions\": self.parser.get_format_instructions()}\n",
    "        )\n",
    "        \n",
    "        # Create the LLM chain\n",
    "        self.chain = LLMChain(\n",
    "            llm=self.llm,\n",
    "            prompt=self.prompt_template,\n",
    "            output_parser=self.parser\n",
    "        )\n",
    "    \n",
    "    def get_stock_symbol(self, company_name: str) -> Optional[str]:\n",
    "        \"\"\"Extract stock symbol from company name using yfinance\"\"\"\n",
    "        try:\n",
    "            # Try common approaches to find ticker\n",
    "            ticker = yf.Ticker(company_name)\n",
    "            info = ticker.info\n",
    "            \n",
    "            if info and 'symbol' in info:\n",
    "                return info['symbol']\n",
    "            \n",
    "            # Fallback: try searching with yfinance\n",
    "            # This is a simple mapping for common companies\n",
    "            company_mappings = {\n",
    "                \"apple\": \"AAPL\",\n",
    "                \"microsoft\": \"MSFT\", \n",
    "                \"google\": \"GOOGL\",\n",
    "                \"amazon\": \"AMZN\",\n",
    "                \"tesla\": \"TSLA\",\n",
    "                \"meta\": \"META\",\n",
    "                \"nvidia\": \"NVDA\",\n",
    "                \"netflix\": \"NFLX\"\n",
    "            }\n",
    "            \n",
    "            company_lower = company_name.lower()\n",
    "            for key, symbol in company_mappings.items():\n",
    "                if key in company_lower:\n",
    "                    return symbol\n",
    "                    \n",
    "            return None\n",
    "            \n",
    "        except Exception as e:\n",
    "            print(f\"Error getting stock symbol: {e}\")\n",
    "            return None\n",
    "    \n",
    "    def fetch_company_news(self, stock_symbol: str) -> str:\n",
    "        \"\"\"Fetch recent news for the company using Yahoo Finance\"\"\"\n",
    "        try:\n",
    "            news_data = self.yahoo_news.run(stock_symbol)\n",
    "            return news_data\n",
    "        except Exception as e:\n",
    "            print(f\"Error fetching news: {e}\")\n",
    "            return f\"No recent news available for {stock_symbol}\"\n",
    "    \n",
    "    def run_pipeline(self, company_name: str) -> dict:\n",
    "        \"\"\"Main pipeline execution\"\"\"\n",
    "        try:\n",
    "            # Step 1: Get stock symbol\n",
    "            stock_symbol = self.get_stock_symbol(company_name)\n",
    "            if not stock_symbol:\n",
    "                return {\"error\": f\"Could not find stock symbol for {company_name}\"}\n",
    "            \n",
    "            print(f\"Found stock symbol: {stock_symbol}\")\n",
    "            \n",
    "            # Step 2: Fetch news\n",
    "            news_content = self.fetch_company_news(stock_symbol)\n",
    "            print(f\"Fetched news for {company_name}\")\n",
    "            \n",
    "            # Step 3: Analyze with LLM\n",
    "            result = self.chain.run(\n",
    "                company_name=company_name,\n",
    "                stock_code=stock_symbol,\n",
    "                news_content=news_content\n",
    "            )\n",
    "            \n",
    "            # Convert Pydantic model to dict\n",
    "            return result.dict()\n",
    "            \n",
    "        except Exception as e:\n",
    "            return {\"error\": f\"Pipeline failed: {str(e)}\"}\n",
    "    \n",
    "    # def run_pipeline(self, company_name: str) -> dict:\n",
    "    #     \"\"\"Main pipeline execution\"\"\"\n",
    "    #     with mlflow.start_run(run_name=f\"sentiment_analysis_{company_name}\"):\n",
    "    #         try:\n",
    "    #             # Log input parameter\n",
    "    #             mlflow.log_param(\"company_name\", company_name)\n",
    "                \n",
    "    #             # Step 1: Get stock symbol\n",
    "    #             stock_symbol = self.get_stock_symbol(company_name)\n",
    "    #             if not stock_symbol:\n",
    "    #                 mlflow.log_param(\"error\", \"Stock symbol not found\")\n",
    "    #                 return {\"error\": f\"Could not find stock symbol for {company_name}\"}\n",
    "                \n",
    "    #             mlflow.log_param(\"stock_symbol\", stock_symbol)\n",
    "    #             print(f\"Found stock symbol: {stock_symbol}\")\n",
    "                \n",
    "    #             # Step 2: Fetch news\n",
    "    #             news_content = self.fetch_company_news(stock_symbol)\n",
    "    #             mlflow.log_param(\"news_length\", len(news_content))\n",
    "    #             print(f\"Fetched news for {company_name}\")\n",
    "                \n",
    "    #             # Step 3: Analyze with LLM (automatically traced by autolog)\n",
    "    #             result = self.chain.run(\n",
    "    #                 company_name=company_name,\n",
    "    #                 stock_code=stock_symbol,\n",
    "    #                 news_content=news_content\n",
    "    #             )\n",
    "                \n",
    "    #             # Log key results\n",
    "    #             result_dict = result.dict()\n",
    "    #             mlflow.log_param(\"sentiment\", result_dict.get(\"sentiment\"))\n",
    "    #             mlflow.log_metric(\"confidence_score\", result_dict.get(\"confidence_score\", 0.0))\n",
    "                \n",
    "    #             return result_dict\n",
    "                \n",
    "    #         except Exception as e:\n",
    "    #             mlflow.log_param(\"error\", str(e))\n",
    "    #             return {\"error\": f\"Pipeline failed: {str(e)}\"}"
   ]
  },
  {
   "cell_type": "code",
   "execution_count": 11,
   "id": "8ef49b56",
   "metadata": {},
   "outputs": [
    {
     "name": "stderr",
     "output_type": "stream",
     "text": [
      "/tmp/ipykernel_12370/2354147279.py:35: LangChainDeprecationWarning: The class `LLMChain` was deprecated in LangChain 0.1.17 and will be removed in 1.0. Use :meth:`~RunnableSequence, e.g., `prompt | llm`` instead.\n",
      "  self.chain = LLMChain(\n"
     ]
    }
   ],
   "source": [
    "# Create pipeline instance\n",
    "pipeline = CompanySentimentPipeline(client)"
   ]
  },
  {
   "cell_type": "code",
   "execution_count": 12,
   "id": "1b2893de",
   "metadata": {},
   "outputs": [
    {
     "name": "stderr",
     "output_type": "stream",
     "text": [
      "HTTP Error 404: \n"
     ]
    },
    {
     "name": "stdout",
     "output_type": "stream",
     "text": [
      "Found stock symbol: AAPL\n",
      "Fetched news for Apple Inc\n"
     ]
    },
    {
     "name": "stderr",
     "output_type": "stream",
     "text": [
      "/tmp/ipykernel_12370/2354147279.py:99: LangChainDeprecationWarning: The method `Chain.run` was deprecated in langchain 0.1.0 and will be removed in 1.0. Use :meth:`~invoke` instead.\n",
      "  result = self.chain.run(\n"
     ]
    },
    {
     "name": "stdout",
     "output_type": "stream",
     "text": [
      "{\n",
      "  \"company_name\": \"Apple Inc.\",\n",
      "  \"stock_code\": \"AAPL\",\n",
      "  \"newsdesc\": \"Jim Cramer praised Apple Inc. during his show, highlighting the company's iPhone Air and visiting its glass supplier's factory in Kentucky.\",\n",
      "  \"sentiment\": \"Positive\",\n",
      "  \"people_names\": [\n",
      "    \"Jim Cramer\"\n",
      "  ],\n",
      "  \"places_names\": [\n",
      "    \"Kentucky\"\n",
      "  ],\n",
      "  \"other_companies_referred\": [],\n",
      "  \"related_industries\": [\n",
      "    \"Technology\",\n",
      "    \"Consumer Electronics\"\n",
      "  ],\n",
      "  \"market_implications\": \"Positive sentiment may lead to increased investor confidence and potential stock price appreciation.\",\n",
      "  \"confidence_score\": 0.85\n",
      "}\n"
     ]
    },
    {
     "name": "stderr",
     "output_type": "stream",
     "text": [
      "/tmp/ipykernel_12370/2354147279.py:106: PydanticDeprecatedSince20: The `dict` method is deprecated; use `model_dump` instead. Deprecated in Pydantic V2.0 to be removed in V3.0. See Pydantic V2 Migration Guide at https://errors.pydantic.dev/2.11/migration/\n",
      "  return result.dict()\n"
     ]
    }
   ],
   "source": [
    "# Run analysis\n",
    "company_name = \"Apple Inc\"\n",
    "result = pipeline.run_pipeline(company_name)\n",
    "\n",
    "# Print results\n",
    "import json\n",
    "print(json.dumps(result, indent=2))\n"
   ]
  },
  {
   "cell_type": "code",
   "execution_count": null,
   "id": "0d819876",
   "metadata": {},
   "outputs": [],
   "source": []
  }
 ],
 "metadata": {
  "kernelspec": {
   "display_name": "genai",
   "language": "python",
   "name": "python3"
  },
  "language_info": {
   "codemirror_mode": {
    "name": "ipython",
    "version": 3
   },
   "file_extension": ".py",
   "mimetype": "text/x-python",
   "name": "python",
   "nbconvert_exporter": "python",
   "pygments_lexer": "ipython3",
   "version": "3.12.3"
  }
 },
 "nbformat": 4,
 "nbformat_minor": 5
}
