{
 "cells": [
  {
   "cell_type": "code",
   "execution_count": 2,
   "id": "5b283edf",
   "metadata": {},
   "outputs": [],
   "source": [
    "# !python -m pip install langchain-text-splitters ragas --quiet"
   ]
  },
  {
   "cell_type": "code",
   "execution_count": 28,
   "id": "7353c9f2",
   "metadata": {},
   "outputs": [],
   "source": [
    "import os\n",
    "import numpy as np\n",
    "import pandas as pd\n",
    "from typing import List, Optional, Tuple, Dict, TypedDict\n",
    "from langchain_openai import AzureChatOpenAI, AzureOpenAIEmbeddings\n",
    "from langchain.chains import LLMChain\n",
    "from langchain.prompts import PromptTemplate\n",
    "from langchain_core.output_parsers import PydanticOutputParser\n",
    "from pydantic import BaseModel, Field\n",
    "from sklearn.metrics.pairwise import cosine_similarity\n",
    "from langchain_community.vectorstores import FAISS\n",
    "from langchain.schema import Document\n",
    "from ragas import evaluate\n",
    "from ragas import evaluate, SingleTurnSample, EvaluationDataset\n",
    "from ragas.metrics import AnswerRelevancy, Faithfulness, ContextPrecision\n",
    "from ragas.llms import LangchainLLMWrapper\n",
    "from ragas.embeddings import LangchainEmbeddingsWrapper\n",
    "from langchain.prompts import ChatPromptTemplate\n",
    "from pinecone import Pinecone, ServerlessSpec\n",
    "from langgraph.graph import StateGraph, END\n",
    "from langchain_huggingface import HuggingFaceEmbeddings\n",
    "from langchain_pinecone import PineconeVectorStore\n",
    "import mlflow\n",
    "import json\n",
    "import time\n",
    "from datasets import Dataset\n",
    "from tqdm import tqdm"
   ]
  },
  {
   "cell_type": "code",
   "execution_count": 29,
   "id": "3e7e2bba",
   "metadata": {},
   "outputs": [
    {
     "name": "stdout",
     "output_type": "stream",
     "text": [
      "3.3.2\n"
     ]
    }
   ],
   "source": [
    "import mlflow\n",
    "print(mlflow.__version__)"
   ]
  },
  {
   "cell_type": "code",
   "execution_count": 4,
   "id": "9169d5ab",
   "metadata": {},
   "outputs": [
    {
     "data": {
      "text/plain": [
       "True"
      ]
     },
     "execution_count": 4,
     "metadata": {},
     "output_type": "execute_result"
    }
   ],
   "source": [
    "from dotenv import load_dotenv\n",
    "load_dotenv()"
   ]
  },
  {
   "cell_type": "markdown",
   "id": "fb4b487e",
   "metadata": {},
   "source": [
    "### Load the knowledge base JSON"
   ]
  },
  {
   "cell_type": "code",
   "execution_count": 5,
   "id": "db8d8db3",
   "metadata": {},
   "outputs": [],
   "source": [
    "\n",
    "with open('self_critique_loop_dataset.json', 'r') as f:\n",
    "    kb_data = json.load(f)"
   ]
  },
  {
   "cell_type": "code",
   "execution_count": 6,
   "id": "6b4b50a5",
   "metadata": {},
   "outputs": [
    {
     "data": {
      "text/plain": [
       "{'doc_id': 'KB001',\n",
       " 'question': 'What are best practices for debugging?',\n",
       " 'answer_snippet': \"When addressing debugging, it's important to follow well-defined patterns...\",\n",
       " 'source': 'debugging_guide.md',\n",
       " 'confidence_indicator': 'moderate',\n",
       " 'last_updated': '2024-01-10'}"
      ]
     },
     "execution_count": 6,
     "metadata": {},
     "output_type": "execute_result"
    }
   ],
   "source": [
    "kb_data[0]"
   ]
  },
  {
   "cell_type": "markdown",
   "id": "e5feb0fc",
   "metadata": {},
   "source": [
    "### Initializing LLM & Embedding Models"
   ]
  },
  {
   "cell_type": "code",
   "execution_count": 7,
   "id": "da7c59a6",
   "metadata": {},
   "outputs": [],
   "source": [
    "client = AzureChatOpenAI(\n",
    "    deployment_name=os.environ['AZURE_OPENAI_DEPLOYMENT'],  # Your deployment name\n",
    "        model_name=\"gpt-4o\",\n",
    "        temperature=0.1\n",
    ")"
   ]
  },
  {
   "cell_type": "code",
   "execution_count": 8,
   "id": "e79f4f53",
   "metadata": {},
   "outputs": [
    {
     "data": {
      "text/plain": [
       "'The capital of France is Paris.'"
      ]
     },
     "execution_count": 8,
     "metadata": {},
     "output_type": "execute_result"
    }
   ],
   "source": [
    "# Quick LLM Invokation test to verify model deployment\n",
    "\n",
    "client.invoke('What is the capital of France?').content "
   ]
  },
  {
   "cell_type": "code",
   "execution_count": 9,
   "id": "27cf8d97",
   "metadata": {},
   "outputs": [],
   "source": [
    "\n",
    "embedding_model = AzureOpenAIEmbeddings(\n",
    "    model=\"text-embedding-ada-002\",\n",
    ")"
   ]
  },
  {
   "cell_type": "code",
   "execution_count": 10,
   "id": "af914dea",
   "metadata": {},
   "outputs": [
    {
     "name": "stdout",
     "output_type": "stream",
     "text": [
      "[-0.0035696455743163824, 0.008301939815282822, -0.014215736649930477, -0.004543756600469351, -0.01546008512377739, 0.01862751692533493, -0.02047518640756607, -0.010218738578259945, -0.012883404269814491, -0.028129812330007553]\n"
     ]
    }
   ],
   "source": [
    "# Quick Embedding model test to verify model deployment\n",
    "\n",
    "test_emb = embedding_model.embed_query(\"The quick brown fox jumps over the lazy dog\")\n",
    "print(test_emb[:10]) \n",
    "emb_model_len = len(test_emb)"
   ]
  },
  {
   "cell_type": "code",
   "execution_count": 11,
   "id": "97817ff3",
   "metadata": {},
   "outputs": [
    {
     "name": "stdout",
     "output_type": "stream",
     "text": [
      "Cosine Similarity: 1.0\n"
     ]
    }
   ],
   "source": [
    "# Quick Similarity Test\n",
    "\n",
    "print(\"Cosine Similarity:\",cosine_similarity(\n",
    "    np.array(embedding_model.embed_query(\"It's a lovely day outside\")).reshape(-1, 1),\n",
    "    np.array(embedding_model.embed_query(\"The weather today is beautiful\")).reshape(-1,1)\n",
    ")[0][0])"
   ]
  },
  {
   "cell_type": "markdown",
   "id": "da5e686e",
   "metadata": {},
   "source": [
    "### Initializing Pinecone Vector DB"
   ]
  },
  {
   "cell_type": "code",
   "execution_count": 12,
   "id": "7fbe15aa",
   "metadata": {},
   "outputs": [
    {
     "name": "stdout",
     "output_type": "stream",
     "text": [
      "PINECONE API KEY found\n"
     ]
    }
   ],
   "source": [
    "\n",
    "PINECONE_API_KEY = os.getenv(\"PINECONE_API_KEY\")\n",
    "if not PINECONE_API_KEY:\n",
    "    raise RuntimeError(\"PINECONE_API_KEY not found. Please set it in your environment.\")\n",
    "else:\n",
    "  print(\"PINECONE API KEY found\")\n",
    "\n",
    "pc = Pinecone(api_key=PINECONE_API_KEY)"
   ]
  },
  {
   "cell_type": "code",
   "execution_count": 13,
   "id": "e9eb80cb",
   "metadata": {},
   "outputs": [],
   "source": [
    "INDEX_NAME = \"kc-tmp-pinecone-index\" # you can change the name - trial version allows only one index per account, you can login to pinecone and delete the index if needed\n",
    "METRIC = \"cosine\"\n",
    "\n",
    "if INDEX_NAME in [idx[\"name\"] for idx in pc.list_indexes()]:\n",
    "    pc.delete_index(INDEX_NAME)\n",
    "    print(\"Found Index, Deleting for clean up\")"
   ]
  },
  {
   "cell_type": "code",
   "execution_count": 14,
   "id": "62aec5c8",
   "metadata": {},
   "outputs": [
    {
     "name": "stdout",
     "output_type": "stream",
     "text": [
      "Creating index 'kc-tmp-pinecone-index' ...\n",
      "{'dimension': 1536,\n",
      " 'index_fullness': 0.0,\n",
      " 'metric': 'cosine',\n",
      " 'namespaces': {},\n",
      " 'total_vector_count': 0,\n",
      " 'vector_type': 'dense'}\n"
     ]
    }
   ],
   "source": [
    "# Create the index if it doesn't exist\n",
    "existing = [idx[\"name\"] for idx in pc.list_indexes()]\n",
    "if INDEX_NAME not in existing:\n",
    "    print(f\"Creating index '{INDEX_NAME}' ...\")\n",
    "    pc.create_index(\n",
    "        name=INDEX_NAME,\n",
    "        dimension=emb_model_len,\n",
    "        metric=METRIC,\n",
    "        spec=ServerlessSpec(cloud=\"aws\", region=\"us-east-1\"),)\n",
    "   \n",
    "    time.sleep(5)  # optional: wait a moment for the index to be ready\n",
    "else:\n",
    "    print(f\"Index '{INDEX_NAME}' already exists, reusing it.\")\n",
    "\n",
    "index = pc.Index(INDEX_NAME)\n",
    "print(index.describe_index_stats())"
   ]
  },
  {
   "cell_type": "markdown",
   "id": "7100b2a3",
   "metadata": {},
   "source": [
    "### Create LangChain documents"
   ]
  },
  {
   "cell_type": "code",
   "execution_count": 15,
   "id": "43db554d",
   "metadata": {},
   "outputs": [],
   "source": [
    "\n",
    "documents = []\n",
    "for entry in kb_data:\n",
    "    doc_id = entry['doc_id']\n",
    "    question = entry['question']\n",
    "    answer = entry['answer_snippet']\n",
    "    source = entry.get('source', 'unknown')\n",
    "    \n",
    "    # Combine question and answer for better semantic search\n",
    "    content = f\"Question: {question}\\nAnswer: {answer}\"\n",
    "    \n",
    "    doc = Document(\n",
    "        page_content=content,\n",
    "        metadata={\n",
    "            'doc_id': doc_id,\n",
    "            'question': question,\n",
    "            'source': source\n",
    "        }\n",
    "    )\n",
    "    documents.append(doc)"
   ]
  },
  {
   "cell_type": "markdown",
   "id": "0d068500",
   "metadata": {},
   "source": [
    "### Adding Docs to Vector DB"
   ]
  },
  {
   "cell_type": "code",
   "execution_count": 16,
   "id": "e8d2ba90",
   "metadata": {},
   "outputs": [],
   "source": [
    "vectorstore = PineconeVectorStore(\n",
    "    index_name=INDEX_NAME,\n",
    "    embedding=embedding_model,\n",
    "    namespace=None,           # set a namespace string if you want to isolate data\n",
    "    pinecone_api_key=PINECONE_API_KEY,  # optional; will default to env var\n",
    ")"
   ]
  },
  {
   "cell_type": "code",
   "execution_count": 17,
   "id": "4985d449",
   "metadata": {},
   "outputs": [
    {
     "data": {
      "text/plain": [
       "{'dimension': 1536,\n",
       " 'index_fullness': 0.0,\n",
       " 'metric': 'cosine',\n",
       " 'namespaces': {},\n",
       " 'total_vector_count': 0,\n",
       " 'vector_type': 'dense'}"
      ]
     },
     "execution_count": 17,
     "metadata": {},
     "output_type": "execute_result"
    }
   ],
   "source": [
    "vectorstore.add_documents(documents)\n",
    "time.sleep(5)  # Wait for indexing\n",
    "index.describe_index_stats()"
   ]
  },
  {
   "cell_type": "markdown",
   "id": "a1a98c1e",
   "metadata": {},
   "source": [
    "### Define LangGraph State"
   ]
  },
  {
   "cell_type": "code",
   "execution_count": 19,
   "id": "424e0fe1",
   "metadata": {},
   "outputs": [],
   "source": [
    "class AgentState(TypedDict):\n",
    "    \"\"\"State that flows through the graph\"\"\"\n",
    "    query: str\n",
    "    retrieved_snippets: List[Dict]\n",
    "    initial_answer: str\n",
    "    critique_result: str\n",
    "    refined_answer: str\n",
    "    final_answer: str\n",
    "    needs_refinement: bool\n",
    "    refinement_snippet: Dict"
   ]
  },
  {
   "cell_type": "markdown",
   "id": "df5b2599",
   "metadata": {},
   "source": [
    "#### Node 1 - Retriever Node"
   ]
  },
  {
   "cell_type": "code",
   "execution_count": 32,
   "id": "4ad7f7c5",
   "metadata": {},
   "outputs": [],
   "source": [
    "def retriever_node(state: AgentState) -> AgentState:\n",
    "    \"\"\"\n",
    "    Retrieves top-5 KB snippets based on the query.\n",
    "    Each snippet is up to 5 KB in size.\n",
    "    \"\"\"\n",
    "    query = state['query']\n",
    "    print(f\"\\n🔍 RETRIEVER NODE\")\n",
    "    print(f\"Query: {query}\")\n",
    "    \n",
    "    # Retrieve top 5 documents\n",
    "    results = vectorstore.similarity_search_with_score(query, k=5)\n",
    "    \n",
    "    snippets = []\n",
    "    for doc, score in results:\n",
    "        snippet = {\n",
    "            'doc_id': doc.metadata['doc_id'],\n",
    "            'content': doc.page_content[:5000],  # Limit to 5KB\n",
    "            'score': float(score)\n",
    "        }\n",
    "        snippets.append(snippet)\n",
    "        print(f\"  Retrieved: {snippet['doc_id']} (score: {score:.4f})\")\n",
    "    \n",
    "    state['retrieved_snippets'] = snippets\n",
    "    return state"
   ]
  },
  {
   "cell_type": "markdown",
   "id": "6653c53c",
   "metadata": {},
   "source": [
    "#### Node 2: LLM Answer Node"
   ]
  },
  {
   "cell_type": "code",
   "execution_count": 33,
   "id": "06fb4790",
   "metadata": {},
   "outputs": [],
   "source": [
    "\n",
    "\n",
    "def llm_answer_node(state: AgentState) -> AgentState:\n",
    "    \"\"\"\n",
    "    Generates initial answer using Azure GPT-4 mini with citations.\n",
    "    Citations format: [KBxxx]\n",
    "    \"\"\"\n",
    "    query = state['query']\n",
    "    snippets = state['retrieved_snippets']\n",
    "    \n",
    "    print(f\"\\n烙 LLM ANSWER NODE\")\n",
    "    \n",
    "    # Build context with citations\n",
    "    context = \"\"\n",
    "    for snippet in snippets:\n",
    "        context += f\"\\n[{snippet['doc_id']}]:\\n{snippet['content']}\\n\"\n",
    "    \n",
    "    # Create prompt\n",
    "    prompt = ChatPromptTemplate.from_messages([\n",
    "        (\"system\", \"\"\"You are a helpful assistant that answers questions based on the provided knowledge base snippets.\n",
    "\n",
    "IMPORTANT: You MUST cite sources using the format [KBxxx] where xxx is the knowledge base ID.\n",
    "- Use citations after each relevant statement\n",
    "- Only use information from the provided snippets\n",
    "- If information is not in the snippets, say so clearly\"\"\"),\n",
    "        (\"user\", \"\"\"Question: {query}\n",
    "\n",
    "Knowledge Base Snippets:\n",
    "{context}\n",
    "\n",
    "Provide a comprehensive answer with proper citations [KBxxx].\"\"\")\n",
    "    ])\n",
    "    \n",
    "    chain = prompt | client\n",
    "    response = chain.invoke({\"query\": query, \"context\": context})\n",
    "    \n",
    "    answer = response.content\n",
    "    state['initial_answer'] = answer\n",
    "    \n",
    "    print(f\"Generated answer length: {len(answer)} characters\")\n",
    "    print(f\"Answer preview: {answer[:200]}...\")\n",
    "    \n",
    "    return state"
   ]
  },
  {
   "cell_type": "markdown",
   "id": "378e4f72",
   "metadata": {},
   "source": [
    " #### Node 3: Self-Critique Node"
   ]
  },
  {
   "cell_type": "code",
   "execution_count": 34,
   "id": "c1f8d9dd",
   "metadata": {},
   "outputs": [],
   "source": [
    "def self_critique_node(state: AgentState) -> AgentState:\n",
    "    \"\"\"\n",
    "    Uses GPT-4o to critique if the answer is COMPLETE or needs REFINE.\n",
    "    \"\"\"\n",
    "    query = state['query']\n",
    "    answer = state['initial_answer']\n",
    "    \n",
    "    print(f\"\\n🔍 SELF-CRITIQUE NODE\")\n",
    "    \n",
    "    # Critique prompt\n",
    "    prompt = ChatPromptTemplate.from_messages([\n",
    "        (\"system\", \"\"\"You are a strict answer quality evaluator. \n",
    "Evaluate if the answer is COMPLETE or needs REFINEMENT.\n",
    "\n",
    "Return ONLY one word:\n",
    "- \"COMPLETE\" if the answer fully addresses the question with sufficient detail\n",
    "- \"REFINE\" if the answer is incomplete, vague, or missing important details\n",
    "\n",
    "Be strict in your evaluation.\"\"\"),\n",
    "        (\"user\", \"\"\"Question: {query}\n",
    "\n",
    "Answer: {answer}\n",
    "\n",
    "Evaluation (COMPLETE or REFINE):\"\"\")\n",
    "    ])\n",
    "    \n",
    "    chain = prompt | client  # Using the same GPT-4o client\n",
    "    response = chain.invoke({\"query\": query, \"answer\": answer})\n",
    "    \n",
    "    critique = response.content.strip().upper()\n",
    "    \n",
    "    # Ensure valid response\n",
    "    if \"COMPLETE\" in critique:\n",
    "        critique = \"COMPLETE\"\n",
    "    elif \"REFINE\" in critique:\n",
    "        critique = \"REFINE\"\n",
    "    else:\n",
    "        critique = \"COMPLETE\"  # Default to complete if unclear\n",
    "    \n",
    "    state['critique_result'] = critique\n",
    "    state['needs_refinement'] = (critique == \"REFINE\")\n",
    "    \n",
    "    print(f\"Critique Result: {critique}\")\n",
    "    \n",
    "    return state"
   ]
  },
  {
   "cell_type": "markdown",
   "id": "14baa3d7",
   "metadata": {},
   "source": [
    "#### Node 4: Refinement Node"
   ]
  },
  {
   "cell_type": "code",
   "execution_count": 35,
   "id": "d688fb0e",
   "metadata": {},
   "outputs": [],
   "source": [
    "def refinement_node(state: AgentState) -> AgentState:\n",
    "    \"\"\"\n",
    "    Retrieves 1 additional snippet and regenerates answer.\n",
    "    \"\"\"\n",
    "    query = state['query']\n",
    "    initial_snippets = state['retrieved_snippets']\n",
    "    initial_answer = state['initial_answer']\n",
    "    \n",
    "    print(f\"\\n REFINEMENT NODE\")\n",
    "    \n",
    "    # Get one more snippet (6th result)\n",
    "    results = vectorstore.similarity_search_with_score(query, k=6)\n",
    "    \n",
    "    if len(results) > 5:\n",
    "        doc, score = results[5]\n",
    "        additional_snippet = {\n",
    "            'doc_id': doc.metadata['doc_id'],\n",
    "            'content': doc.page_content[:5000],\n",
    "            'score': float(score)\n",
    "        }\n",
    "        print(f\"  Additional snippet: {additional_snippet['doc_id']} (score: {score:.4f})\")\n",
    "    else:\n",
    "        additional_snippet = None\n",
    "        print(\"  No additional snippet available\")\n",
    "    \n",
    "    state['refinement_snippet'] = additional_snippet\n",
    "    \n",
    "    # Build enhanced context\n",
    "    all_snippets = initial_snippets.copy()\n",
    "    if additional_snippet:\n",
    "        all_snippets.append(additional_snippet)\n",
    "    \n",
    "    context = \"\"\n",
    "    for snippet in all_snippets:\n",
    "        context += f\"\\n[{snippet['doc_id']}]:\\n{snippet['content']}\\n\"\n",
    "    \n",
    "    # Regenerate answer with additional context\n",
    "    prompt = ChatPromptTemplate.from_messages([\n",
    "        (\"system\", \"\"\"You are a helpful assistant that answers questions based on the provided knowledge base snippets.\n",
    "\n",
    "IMPORTANT: You MUST cite sources using the format [KBxxx] where xxx is the knowledge base ID.\n",
    "- Use citations after each relevant statement\n",
    "- Only use information from the provided snippets\n",
    "- Provide a more comprehensive answer than before\"\"\"),\n",
    "        (\"user\", \"\"\"Question: {query}\n",
    "\n",
    "Previous Answer (needs improvement):\n",
    "{previous_answer}\n",
    "\n",
    "Enhanced Knowledge Base Snippets:\n",
    "{context}\n",
    "\n",
    "Provide an improved, more comprehensive answer with proper citations [KBxxx].\"\"\")\n",
    "    ])\n",
    "    \n",
    "    chain = prompt | client\n",
    "    response = chain.invoke({\n",
    "        \"query\": query,\n",
    "        \"previous_answer\": initial_answer,\n",
    "        \"context\": context\n",
    "    })\n",
    "    \n",
    "    refined_answer = response.content\n",
    "    state['refined_answer'] = refined_answer\n",
    "    \n",
    "    print(f\"Refined answer length: {len(refined_answer)} characters\")\n",
    "    \n",
    "    return state"
   ]
  },
  {
   "cell_type": "markdown",
   "id": "48049dab",
   "metadata": {},
   "source": [
    "#### Decision Function"
   ]
  },
  {
   "cell_type": "code",
   "execution_count": 36,
   "id": "951bdb4a",
   "metadata": {},
   "outputs": [],
   "source": [
    "def decide_refinement(state: AgentState) -> str:\n",
    "    \"\"\"\n",
    "    Decision function: routes to refinement or end based on critique.\n",
    "    \"\"\"\n",
    "    if state['needs_refinement']:\n",
    "        print(\"\\n➡️  Routing to REFINEMENT\")\n",
    "        return \"refine\"\n",
    "    else:\n",
    "        print(\"\\n➡️  Routing to END (answer complete)\")\n",
    "        return \"end\""
   ]
  },
  {
   "cell_type": "markdown",
   "id": "f8ac5657",
   "metadata": {},
   "source": [
    "### Build LangGraph Workflow"
   ]
  },
  {
   "cell_type": "code",
   "execution_count": 37,
   "id": "b03cd2f2",
   "metadata": {},
   "outputs": [],
   "source": [
    "# Create graph\n",
    "workflow = StateGraph(AgentState)\n",
    "\n",
    "# Add nodes\n",
    "workflow.add_node(\"retriever\", retriever_node)\n",
    "workflow.add_node(\"llm_answer\", llm_answer_node)\n",
    "workflow.add_node(\"critique\", self_critique_node)\n",
    "workflow.add_node(\"refinement\", refinement_node)\n",
    "\n",
    "# Define edges\n",
    "workflow.set_entry_point(\"retriever\")\n",
    "workflow.add_edge(\"retriever\", \"llm_answer\")\n",
    "workflow.add_edge(\"llm_answer\", \"critique\")\n",
    "\n",
    "# Conditional edge based on critique\n",
    "workflow.add_conditional_edges(\n",
    "    \"critique\",\n",
    "    decide_refinement,\n",
    "    {\n",
    "        \"refine\": \"refinement\",\n",
    "        \"end\": END\n",
    "    }\n",
    ")\n",
    "\n",
    "# After refinement, end\n",
    "workflow.add_edge(\"refinement\", END)\n",
    "\n",
    "# Compile graph\n",
    "app = workflow.compile()"
   ]
  },
  {
   "cell_type": "code",
   "execution_count": 38,
   "id": "e1457e0b",
   "metadata": {},
   "outputs": [
    {
     "data": {
      "image/png": "[encoded data removed]",
      "text/plain": [
       "<IPython.core.display.Image object>"
      ]
     },
     "metadata": {},
     "output_type": "display_data"
    }
   ],
   "source": [
    "from IPython.display import Image, display\n",
    "\n",
    "try:\n",
    "    display(Image(app.get_graph().draw_mermaid_png()))\n",
    "except Exception:\n",
    "    # This requires some extra dependencies and is optional\n",
    "    pass"
   ]
  },
  {
   "cell_type": "markdown",
   "id": "253a43bb",
   "metadata": {},
   "source": [
    "### Test Queries"
   ]
  },
  {
   "cell_type": "code",
   "execution_count": 39,
   "id": "99caa3e5",
   "metadata": {},
   "outputs": [],
   "source": [
    "test_queries = [\n",
    "    \"What are best practices for caching?\",\n",
    "    \"How should I set up CI/CD pipelines?\",\n",
    "    \"What are performance tuning tips?\",\n",
    "    \"How do I version my APIs?\",\n",
    "    \"What should I consider for error handling?\"\n",
    "]"
   ]
  },
  {
   "cell_type": "code",
   "execution_count": null,
   "id": "7da20b0d",
   "metadata": {},
   "outputs": [],
   "source": [
    "# import mlflow\n",
    "# mlflow.langchain.autolog()"
   ]
  },
  {
   "cell_type": "code",
   "execution_count": 40,
   "id": "8853bf7e",
   "metadata": {},
   "outputs": [
    {
     "name": "stderr",
     "output_type": "stream",
     "text": [
      "2025/10/05 20:38:38 INFO mlflow.tracking.fluent: Experiment with name 'kc-agentic_rag_self_critique' does not exist. Creating a new experiment.\n"
     ]
    },
    {
     "data": {
      "text/plain": [
       "<Experiment: artifact_location='mlflow-artifacts:/967319295578521028', creation_time=1759676918762, experiment_id='967319295578521028', last_update_time=1759676918762, lifecycle_stage='active', name='kc-agentic_rag_self_critique', tags={}>"
      ]
     },
     "execution_count": 40,
     "metadata": {},
     "output_type": "execute_result"
    }
   ],
   "source": [
    "mlflow.set_tracking_uri(\"http://20.75.92.162:5000\")\n",
    "mlflow.set_experiment(\"kc-agentic_rag_self_critique\")"
   ]
  },
  {
   "cell_type": "code",
   "execution_count": null,
   "id": "81ca413f",
   "metadata": {},
   "outputs": [
    {
     "name": "stdout",
     "output_type": "stream",
     "text": [
      "\n",
      "####################################################################################################\n",
      "QUERY 1/5\n",
      "####################################################################################################\n",
      "Question: What are best practices for caching?\n",
      "\n",
      "🔍 RETRIEVER NODE\n",
      "Query: What are best practices for caching?\n",
      "  Retrieved: KB023 (score: 0.9155)\n",
      "  Retrieved: KB003 (score: 0.9155)\n",
      "  Retrieved: KB013 (score: 0.9155)\n",
      "  Retrieved: KB012 (score: 0.8497)\n",
      "  Retrieved: KB002 (score: 0.8497)\n",
      "\n",
      "烙 LLM ANSWER NODE\n",
      "Generated answer length: 459 characters\n",
      "Answer preview: The knowledge base snippets provided do not contain specific details about best practices for caching. They all mention the importance of following well-defined patterns when addressing caching, but d...\n",
      "\n",
      "🔍 SELF-CRITIQUE NODE\n",
      "Critique Result: REFINE\n",
      "\n",
      "➡️  Routing to REFINEMENT\n",
      "\n",
      " REFINEMENT NODE\n",
      "  Additional snippet: KB002 (score: 0.8497)\n"
     ]
    }
   ],
   "source": [
    "results = []\n",
    "\n",
    "for i, query in enumerate(test_queries[:1], 1):\n",
    "    print(f\"\\n{'#'*100}\")\n",
    "    print(f\"QUERY {i}/{len(test_queries)}\")\n",
    "    print(f\"{'#'*100}\")\n",
    "    print(f\"Question: {query}\")\n",
    "    \n",
    "    # Start MLflow run\n",
    "    with mlflow.start_run(run_name=f\"query_{i}\"):\n",
    "        \n",
    "        # Log query\n",
    "        mlflow.log_param(\"query\", query)\n",
    "        mlflow.log_param(\"query_number\", i)\n",
    "        \n",
    "        # Initialize state\n",
    "        initial_state = {\n",
    "            'query': query,\n",
    "            'retrieved_snippets': [],\n",
    "            'initial_answer': '',\n",
    "            'critique_result': '',\n",
    "            'refined_answer': '',\n",
    "            'final_answer': '',\n",
    "            'needs_refinement': False,\n",
    "            'refinement_snippet': None\n",
    "        }\n",
    "        \n",
    "        # Run the graph\n",
    "        final_state = app.invoke(initial_state)\n",
    "        \n",
    "        # Determine final answer\n",
    "        if final_state['needs_refinement'] and final_state.get('refined_answer'):\n",
    "            final_answer = final_state['refined_answer']\n",
    "            answer_type = \"refined\"\n",
    "        else:\n",
    "            final_answer = final_state['initial_answer']\n",
    "            answer_type = \"initial\"\n",
    "        \n",
    "        final_state['final_answer'] = final_answer\n",
    "        \n",
    "        # Log to MLflow\n",
    "        mlflow.log_param(\"answer_type\", answer_type)\n",
    "        mlflow.log_param(\"critique_result\", final_state['critique_result'])\n",
    "        mlflow.log_param(\"num_retrieved_snippets\", len(final_state['retrieved_snippets']))\n",
    "        \n",
    "        mlflow.log_metric(\"initial_answer_length\", len(final_state['initial_answer']))\n",
    "        if final_state.get('refined_answer'):\n",
    "            mlflow.log_metric(\"refined_answer_length\", len(final_state['refined_answer']))\n",
    "        \n",
    "        # Log snippets\n",
    "        snippet_ids = [s['doc_id'] for s in final_state['retrieved_snippets']]\n",
    "        mlflow.log_param(\"retrieved_doc_ids\", \",\".join(snippet_ids))\n",
    "        \n",
    "        # Log answers as artifacts\n",
    "        with open(\"initial_answer.txt\", \"w\") as f:\n",
    "            f.write(final_state['initial_answer'])\n",
    "        mlflow.log_artifact(\"initial_answer.txt\")\n",
    "        \n",
    "        if final_state.get('refined_answer'):\n",
    "            with open(\"refined_answer.txt\", \"w\") as f:\n",
    "                f.write(final_state['refined_answer'])\n",
    "            mlflow.log_artifact(\"refined_answer.txt\")\n",
    "        \n",
    "        # Display results\n",
    "        print(f\"\\n{'='*100}\")\n",
    "        print(f\"RESULTS FOR QUERY {i}\")\n",
    "        print(f\"{'='*100}\")\n",
    "        print(f\"\\n📊 Critique: {final_state['critique_result']}\")\n",
    "        print(f\"📝 Answer Type: {answer_type.upper()}\")\n",
    "        print(f\"📚 Retrieved Snippets: {', '.join(snippet_ids)}\")\n",
    "        \n",
    "        print(f\"\\n🎯 FINAL ANSWER:\")\n",
    "        print(\"-\"*100)\n",
    "        print(final_answer)\n",
    "        print(\"-\"*100)\n",
    "        \n",
    "        # Store result\n",
    "        results.append({\n",
    "            'query_num': i,\n",
    "            'query': query,\n",
    "            'critique': final_state['critique_result'],\n",
    "            'answer_type': answer_type,\n",
    "            'retrieved_snippets': snippet_ids,\n",
    "            'final_answer': final_answer\n",
    "        })\n",
    "\n",
    "print(\"\\n\" + \"=\"*100)\n",
    "print(\"EVALUATION COMPLETE\")\n",
    "print(\"=\"*100)"
   ]
  },
  {
   "cell_type": "code",
   "execution_count": null,
   "id": "b4f7ce2d",
   "metadata": {},
   "outputs": [],
   "source": []
  }
 ],
 "metadata": {
  "kernelspec": {
   "display_name": "genai",
   "language": "python",
   "name": "python3"
  },
  "language_info": {
   "codemirror_mode": {
    "name": "ipython",
    "version": 3
   },
   "file_extension": ".py",
   "mimetype": "text/x-python",
   "name": "python",
   "nbconvert_exporter": "python",
   "pygments_lexer": "ipython3",
   "version": "3.12.3"
  }
 },
 "nbformat": 4,
 "nbformat_minor": 5
}
